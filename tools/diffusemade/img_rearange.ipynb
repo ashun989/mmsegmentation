{
 "cells": [
  {
   "cell_type": "code",
   "execution_count": 13,
   "metadata": {
    "collapsed": true
   },
   "outputs": [],
   "source": [
    "import os\n",
    "import os.path as osp\n",
    "import shutil\n",
    "import json\n",
    "from tqdm import tqdm\n",
    "from compare_labels import parse_refrain_info, get_file_list"
   ]
  },
  {
   "cell_type": "code",
   "execution_count": 17,
   "outputs": [],
   "source": [
    "root = '../../data/DiffuseMade10'\n",
    "ori_dir = osp.join(root, 'out_combine/show/tanh2-0.25-4.0-dcrf-0.05-0.95')\n",
    "# tgt_dir = osp.join(root, 'out_combine/show/tanh2-0.25-4.0-dcrf-0.05-0.95_cls_score')\n",
    "# tgt_dir = osp.join(root, 'out_combine/show/tanh2-0.25-4.0-dcrf-0.05-0.95_iou_refrain')\n",
    "tgt_dir = osp.join(root, 'out_combine/show/tanh2-0.25-4.0-dcrf-0.05-0.95_iou')\n",
    "data_info_path = osp.join(root, 'data_infos.json')\n",
    "# split_path = osp.join(root, 'imageset/cls_all_bad/bad.txt')\n",
    "split_path = osp.join(root, 'imageset/seg_all_bad/bad.txt')"
   ],
   "metadata": {
    "collapsed": false
   }
  },
  {
   "cell_type": "code",
   "execution_count": 18,
   "outputs": [],
   "source": [
    "with open(data_info_path, 'r') as fp:\n",
    "    data_info = json.load(fp)\n",
    "\n",
    "cls_names, name2cls = parse_refrain_info('voc', data_info_path)"
   ],
   "metadata": {
    "collapsed": false
   }
  },
  {
   "cell_type": "code",
   "execution_count": 19,
   "outputs": [
    {
     "name": "stderr",
     "output_type": "stream",
     "text": [
      "100%|██████████| 20000/20000 [00:12<00:00, 1604.02it/s]\n"
     ]
    }
   ],
   "source": [
    "\n",
    "file_list = get_file_list(None, None, split_path)\n",
    "\n",
    "rank_bin = [0] * len(cls_names)\n",
    "\n",
    "os.makedirs(tgt_dir, exist_ok=True)\n",
    "\n",
    "for name in tqdm(file_list):\n",
    "    cid = name2cls[int(name)]\n",
    "    rank = rank_bin[cid]\n",
    "    rank_bin[cid] += 1\n",
    "    cname = cls_names[cid]\n",
    "    tgt_name = f\"{cname}_{rank}_{name}\"\n",
    "    src_path = osp.join(ori_dir, name + \".png\")\n",
    "    tgt_path = osp.join(tgt_dir, tgt_name + \".png\")\n",
    "    shutil.copyfile(src_path, tgt_path)\n"
   ],
   "metadata": {
    "collapsed": false
   }
  },
  {
   "cell_type": "code",
   "execution_count": null,
   "outputs": [],
   "source": [],
   "metadata": {
    "collapsed": false
   }
  }
 ],
 "metadata": {
  "kernelspec": {
   "display_name": "Python 3",
   "language": "python",
   "name": "python3"
  },
  "language_info": {
   "codemirror_mode": {
    "name": "ipython",
    "version": 2
   },
   "file_extension": ".py",
   "mimetype": "text/x-python",
   "name": "python",
   "nbconvert_exporter": "python",
   "pygments_lexer": "ipython2",
   "version": "2.7.6"
  }
 },
 "nbformat": 4,
 "nbformat_minor": 0
}
